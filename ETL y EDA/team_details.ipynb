{
 "cells": [
  {
   "cell_type": "markdown",
   "metadata": {},
   "source": [
    "##### PROYECTO PARTNERDHIPFINDER"
   ]
  },
  {
   "cell_type": "markdown",
   "metadata": {},
   "source": [
    "##### ETL dataset team_details.csv"
   ]
  },
  {
   "cell_type": "markdown",
   "metadata": {},
   "source": [
    "##### Importamos Pandas y Numpy a nuestro codigo"
   ]
  },
  {
   "cell_type": "code",
   "execution_count": 1,
   "metadata": {},
   "outputs": [],
   "source": [
    "import pandas as pd\n",
    "import numpy as np"
   ]
  },
  {
   "cell_type": "markdown",
   "metadata": {},
   "source": [
    "##### Asignamos la ruta del archivo team_details.csv a la variable data_team_details"
   ]
  },
  {
   "cell_type": "code",
   "execution_count": 2,
   "metadata": {},
   "outputs": [],
   "source": [
    "data_team_details = 'team_details.csv'"
   ]
  },
  {
   "cell_type": "markdown",
   "metadata": {},
   "source": [
    "##### Utilizamos pd.read_csv para leer el archivo team_details.csv y asignar el contenido del mismo  a un objeto de pandas"
   ]
  },
  {
   "cell_type": "code",
   "execution_count": 3,
   "metadata": {},
   "outputs": [],
   "source": [
    "data = pd.read_csv('team_details.csv')"
   ]
  },
  {
   "cell_type": "markdown",
   "metadata": {},
   "source": [
    "##### Mostramos las 5 primeras filas del archivo"
   ]
  },
  {
   "cell_type": "code",
   "execution_count": 4,
   "metadata": {},
   "outputs": [
    {
     "data": {
      "text/html": [
       "<div>\n",
       "<style scoped>\n",
       "    .dataframe tbody tr th:only-of-type {\n",
       "        vertical-align: middle;\n",
       "    }\n",
       "\n",
       "    .dataframe tbody tr th {\n",
       "        vertical-align: top;\n",
       "    }\n",
       "\n",
       "    .dataframe thead th {\n",
       "        text-align: right;\n",
       "    }\n",
       "</style>\n",
       "<table border=\"1\" class=\"dataframe\">\n",
       "  <thead>\n",
       "    <tr style=\"text-align: right;\">\n",
       "      <th></th>\n",
       "      <th>team_id</th>\n",
       "      <th>abbreviation</th>\n",
       "      <th>nickname</th>\n",
       "      <th>yearfounded</th>\n",
       "      <th>city</th>\n",
       "      <th>arena</th>\n",
       "      <th>arenacapacity</th>\n",
       "      <th>owner</th>\n",
       "      <th>generalmanager</th>\n",
       "      <th>headcoach</th>\n",
       "      <th>dleagueaffiliation</th>\n",
       "      <th>facebook</th>\n",
       "      <th>instagram</th>\n",
       "      <th>twitter</th>\n",
       "    </tr>\n",
       "  </thead>\n",
       "  <tbody>\n",
       "    <tr>\n",
       "      <th>0</th>\n",
       "      <td>1610612737</td>\n",
       "      <td>ATL</td>\n",
       "      <td>Hawks</td>\n",
       "      <td>1949.0</td>\n",
       "      <td>Atlanta</td>\n",
       "      <td>State Farm Arena</td>\n",
       "      <td>18729.0</td>\n",
       "      <td>Tony Ressler</td>\n",
       "      <td>Travis Schlenk</td>\n",
       "      <td>Quin Snyder</td>\n",
       "      <td>College Park Skyhawks</td>\n",
       "      <td>https://www.facebook.com/hawks</td>\n",
       "      <td>https://instagram.com/atlhawks</td>\n",
       "      <td>https://twitter.com/ATLHawks</td>\n",
       "    </tr>\n",
       "    <tr>\n",
       "      <th>1</th>\n",
       "      <td>1610612741</td>\n",
       "      <td>CHI</td>\n",
       "      <td>Bulls</td>\n",
       "      <td>1966.0</td>\n",
       "      <td>Chicago</td>\n",
       "      <td>United Center</td>\n",
       "      <td>21711.0</td>\n",
       "      <td>Michael Reinsdorf</td>\n",
       "      <td>Arturas Karnisovas</td>\n",
       "      <td>Billy Donovan</td>\n",
       "      <td>Windy City Bulls</td>\n",
       "      <td>https://www.facebook.com/chicagobulls</td>\n",
       "      <td>https://instagram.com/chicagobulls</td>\n",
       "      <td>https://twitter.com/chicagobulls</td>\n",
       "    </tr>\n",
       "    <tr>\n",
       "      <th>2</th>\n",
       "      <td>1610612742</td>\n",
       "      <td>DAL</td>\n",
       "      <td>Mavericks</td>\n",
       "      <td>1980.0</td>\n",
       "      <td>Dallas</td>\n",
       "      <td>American Airlines Center</td>\n",
       "      <td>19200.0</td>\n",
       "      <td>Mark Cuban</td>\n",
       "      <td>Nico Harrison</td>\n",
       "      <td>Jason Kidd</td>\n",
       "      <td>Texas Legends</td>\n",
       "      <td>https://www.facebook.com/dallasmavs</td>\n",
       "      <td>https://instagram.com/dallasmavs</td>\n",
       "      <td>https://twitter.com/dallasmavs</td>\n",
       "    </tr>\n",
       "    <tr>\n",
       "      <th>3</th>\n",
       "      <td>1610612743</td>\n",
       "      <td>DEN</td>\n",
       "      <td>Nuggets</td>\n",
       "      <td>1976.0</td>\n",
       "      <td>Denver</td>\n",
       "      <td>Ball Arena</td>\n",
       "      <td>NaN</td>\n",
       "      <td>Stan Kroenke</td>\n",
       "      <td>Calvin Booth</td>\n",
       "      <td>Michael Malone</td>\n",
       "      <td>Grand Rapids Gold</td>\n",
       "      <td>https://www.facebook.com/DenverNuggets</td>\n",
       "      <td>https://instagram.com/nuggets</td>\n",
       "      <td>https://twitter.com/nuggets</td>\n",
       "    </tr>\n",
       "    <tr>\n",
       "      <th>4</th>\n",
       "      <td>1610612744</td>\n",
       "      <td>GSW</td>\n",
       "      <td>Warriors</td>\n",
       "      <td>1946.0</td>\n",
       "      <td>Golden State</td>\n",
       "      <td>Chase Center</td>\n",
       "      <td>NaN</td>\n",
       "      <td>Joe Lacob</td>\n",
       "      <td>Bob Myers</td>\n",
       "      <td>Steve Kerr</td>\n",
       "      <td>Santa Cruz Warriors</td>\n",
       "      <td>https://www.facebook.com/warriors</td>\n",
       "      <td>https://instagram.com/warriors</td>\n",
       "      <td>https://twitter.com/warriors</td>\n",
       "    </tr>\n",
       "  </tbody>\n",
       "</table>\n",
       "</div>"
      ],
      "text/plain": [
       "      team_id abbreviation   nickname  yearfounded          city  \\\n",
       "0  1610612737          ATL      Hawks       1949.0       Atlanta   \n",
       "1  1610612741          CHI      Bulls       1966.0       Chicago   \n",
       "2  1610612742          DAL  Mavericks       1980.0        Dallas   \n",
       "3  1610612743          DEN    Nuggets       1976.0        Denver   \n",
       "4  1610612744          GSW   Warriors       1946.0  Golden State   \n",
       "\n",
       "                      arena  arenacapacity              owner  \\\n",
       "0          State Farm Arena        18729.0       Tony Ressler   \n",
       "1             United Center        21711.0  Michael Reinsdorf   \n",
       "2  American Airlines Center        19200.0         Mark Cuban   \n",
       "3                Ball Arena            NaN       Stan Kroenke   \n",
       "4              Chase Center            NaN          Joe Lacob   \n",
       "\n",
       "       generalmanager       headcoach     dleagueaffiliation  \\\n",
       "0      Travis Schlenk     Quin Snyder  College Park Skyhawks   \n",
       "1  Arturas Karnisovas   Billy Donovan       Windy City Bulls   \n",
       "2       Nico Harrison      Jason Kidd          Texas Legends   \n",
       "3        Calvin Booth  Michael Malone      Grand Rapids Gold   \n",
       "4           Bob Myers      Steve Kerr    Santa Cruz Warriors   \n",
       "\n",
       "                                 facebook                           instagram  \\\n",
       "0          https://www.facebook.com/hawks      https://instagram.com/atlhawks   \n",
       "1   https://www.facebook.com/chicagobulls  https://instagram.com/chicagobulls   \n",
       "2     https://www.facebook.com/dallasmavs    https://instagram.com/dallasmavs   \n",
       "3  https://www.facebook.com/DenverNuggets       https://instagram.com/nuggets   \n",
       "4       https://www.facebook.com/warriors      https://instagram.com/warriors   \n",
       "\n",
       "                            twitter  \n",
       "0      https://twitter.com/ATLHawks  \n",
       "1  https://twitter.com/chicagobulls  \n",
       "2    https://twitter.com/dallasmavs  \n",
       "3       https://twitter.com/nuggets  \n",
       "4      https://twitter.com/warriors  "
      ]
     },
     "execution_count": 4,
     "metadata": {},
     "output_type": "execute_result"
    }
   ],
   "source": [
    "data.head()"
   ]
  },
  {
   "cell_type": "markdown",
   "metadata": {},
   "source": [
    "##### Confirmamos el tamaño del dataset "
   ]
  },
  {
   "cell_type": "code",
   "execution_count": 5,
   "metadata": {},
   "outputs": [
    {
     "data": {
      "text/plain": [
       "(25, 14)"
      ]
     },
     "execution_count": 5,
     "metadata": {},
     "output_type": "execute_result"
    }
   ],
   "source": [
    "data.shape"
   ]
  },
  {
   "cell_type": "markdown",
   "metadata": {},
   "source": [
    "##### Filtramos los datos utilizando .value.com sobre la columna 'nickname' para ver que equipos aparecen en el dataset"
   ]
  },
  {
   "cell_type": "code",
   "execution_count": 6,
   "metadata": {},
   "outputs": [
    {
     "data": {
      "text/plain": [
       "nickname\n",
       "76ers            1\n",
       "Bucks            1\n",
       "Bulls            1\n",
       "Clippers         1\n",
       "Grizzlies        1\n",
       "Hawks            1\n",
       "Heat             1\n",
       "Hornets          1\n",
       "Jazz             1\n",
       "Kings            1\n",
       "Lakers           1\n",
       "Mavericks        1\n",
       "Nets             1\n",
       "Nuggets          1\n",
       "Pacers           1\n",
       "Pistons          1\n",
       "Raptors          1\n",
       "Rockets          1\n",
       "Spurs            1\n",
       "Suns             1\n",
       "Thunder          1\n",
       "Timberwolves     1\n",
       "Trail Blazers    1\n",
       "Warriors         1\n",
       "Wizards          1\n",
       "Name: count, dtype: int64"
      ]
     },
     "execution_count": 6,
     "metadata": {},
     "output_type": "execute_result"
    }
   ],
   "source": [
    "data.value_counts('nickname')"
   ]
  },
  {
   "cell_type": "markdown",
   "metadata": {},
   "source": [
    "##### Utilizamos .isnull().sum() para obtener el total de valores nulos por columna en el dataset"
   ]
  },
  {
   "cell_type": "code",
   "execution_count": 7,
   "metadata": {},
   "outputs": [
    {
     "data": {
      "text/plain": [
       "team_id               0\n",
       "abbreviation          0\n",
       "nickname              0\n",
       "yearfounded           0\n",
       "city                  0\n",
       "arena                 0\n",
       "arenacapacity         9\n",
       "owner                 0\n",
       "generalmanager        0\n",
       "headcoach             1\n",
       "dleagueaffiliation    0\n",
       "facebook              0\n",
       "instagram             0\n",
       "twitter               0\n",
       "dtype: int64"
      ]
     },
     "execution_count": 7,
     "metadata": {},
     "output_type": "execute_result"
    }
   ],
   "source": [
    "data.isnull().sum()"
   ]
  },
  {
   "cell_type": "markdown",
   "metadata": {},
   "source": [
    "##### Se obtuvieron 9 valores nulos en la columna arenacapacity, los mismos seran completados con la media. Primero calculamos el valor de la media de la columna 'arenacapacity' y redondeamos el valor"
   ]
  },
  {
   "cell_type": "code",
   "execution_count": 23,
   "metadata": {},
   "outputs": [],
   "source": [
    "mean_arenacapacity = round(data['arenacapacity'].mean())"
   ]
  },
  {
   "cell_type": "markdown",
   "metadata": {},
   "source": [
    "##### Asignar el resultado de fillna de nuevo a la columna"
   ]
  },
  {
   "cell_type": "code",
   "execution_count": 24,
   "metadata": {},
   "outputs": [],
   "source": [
    "data['arenacapacity'] = data['arenacapacity'].fillna(mean_arenacapacity)"
   ]
  },
  {
   "cell_type": "markdown",
   "metadata": {},
   "source": [
    "##### Filtramos de nuevo con .isnull().sum() para confirmar que ya no aparecen los valores nulos"
   ]
  },
  {
   "cell_type": "code",
   "execution_count": 25,
   "metadata": {},
   "outputs": [
    {
     "data": {
      "text/plain": [
       "team_id               0\n",
       "abbreviation          0\n",
       "nickname              0\n",
       "yearfounded           0\n",
       "city                  0\n",
       "arena                 0\n",
       "arenacapacity         0\n",
       "owner                 0\n",
       "generalmanager        0\n",
       "headcoach             0\n",
       "dleagueaffiliation    0\n",
       "dtype: int64"
      ]
     },
     "execution_count": 25,
     "metadata": {},
     "output_type": "execute_result"
    }
   ],
   "source": [
    "data.isnull().sum()"
   ]
  },
  {
   "cell_type": "markdown",
   "metadata": {},
   "source": [
    "##### Para eliminar el valor nulo que aparece en la columna heaqdcoach, vamos a sustituirlo por 'sin entrenador' usando el metodo .fillna"
   ]
  },
  {
   "cell_type": "code",
   "execution_count": 26,
   "metadata": {},
   "outputs": [],
   "source": [
    "data['headcoach'] = data['headcoach'].fillna('sin entrenador')"
   ]
  },
  {
   "cell_type": "markdown",
   "metadata": {},
   "source": [
    "##### chequeamos nuevamente con .isnull().sum() para confirmar que ya no aparece el valor nulo"
   ]
  },
  {
   "cell_type": "code",
   "execution_count": 27,
   "metadata": {},
   "outputs": [
    {
     "data": {
      "text/plain": [
       "team_id               0\n",
       "abbreviation          0\n",
       "nickname              0\n",
       "yearfounded           0\n",
       "city                  0\n",
       "arena                 0\n",
       "arenacapacity         0\n",
       "owner                 0\n",
       "generalmanager        0\n",
       "headcoach             0\n",
       "dleagueaffiliation    0\n",
       "dtype: int64"
      ]
     },
     "execution_count": 27,
     "metadata": {},
     "output_type": "execute_result"
    }
   ],
   "source": [
    "data.isnull().sum()"
   ]
  },
  {
   "cell_type": "code",
   "execution_count": 28,
   "metadata": {},
   "outputs": [
    {
     "name": "stdout",
     "output_type": "stream",
     "text": [
      "       team_id abbreviation       nickname  yearfounded           city  \\\n",
      "0   1610612737          ATL          Hawks       1949.0        Atlanta   \n",
      "1   1610612741          CHI          Bulls       1966.0        Chicago   \n",
      "2   1610612742          DAL      Mavericks       1980.0         Dallas   \n",
      "3   1610612743          DEN        Nuggets       1976.0         Denver   \n",
      "4   1610612744          GSW       Warriors       1946.0   Golden State   \n",
      "5   1610612745          HOU        Rockets       1967.0        Houston   \n",
      "6   1610612746          LAC       Clippers       1970.0    Los Angeles   \n",
      "7   1610612747          LAL         Lakers       1948.0    Los Angeles   \n",
      "8   1610612748          MIA           Heat       1988.0          Miami   \n",
      "9   1610612749          MIL          Bucks       1968.0      Milwaukee   \n",
      "10  1610612750          MIN   Timberwolves       1989.0      Minnesota   \n",
      "11  1610612751          BKN           Nets       1976.0       Brooklyn   \n",
      "12  1610612754          IND         Pacers       1976.0        Indiana   \n",
      "13  1610612755          PHI          76ers       1949.0   Philadelphia   \n",
      "14  1610612756          PHX           Suns       1968.0        Phoenix   \n",
      "15  1610612757          POR  Trail Blazers       1970.0       Portland   \n",
      "16  1610612758          SAC          Kings       1948.0     Sacramento   \n",
      "17  1610612759          SAS          Spurs       1976.0    San Antonio   \n",
      "18  1610612760          OKC        Thunder       1967.0  Oklahoma City   \n",
      "19  1610612761          TOR        Raptors       1995.0        Toronto   \n",
      "20  1610612762          UTA           Jazz       1974.0           Utah   \n",
      "21  1610612763          MEM      Grizzlies       1995.0        Memphis   \n",
      "22  1610612764          WAS        Wizards       1961.0     Washington   \n",
      "23  1610612765          DET        Pistons       1948.0        Detroit   \n",
      "24  1610612766          CHA        Hornets       1988.0      Charlotte   \n",
      "\n",
      "                       arena  arenacapacity                          owner  \\\n",
      "0           State Farm Arena        18729.0                   Tony Ressler   \n",
      "1              United Center        21711.0              Michael Reinsdorf   \n",
      "2   American Airlines Center        19200.0                     Mark Cuban   \n",
      "3                 Ball Arena        19039.0                   Stan Kroenke   \n",
      "4               Chase Center        19039.0                      Joe Lacob   \n",
      "5              Toyota Center        18104.0                Tilman Fertitta   \n",
      "6           Crypto.com Arena        19060.0                  Steve Ballmer   \n",
      "7           Crypto.com Arena        19060.0                    Jeanie Buss   \n",
      "8              Kaseya Center        19600.0                   Micky Arison   \n",
      "9               Fiserv Forum        17500.0      Wesley Edens & Marc Lasry   \n",
      "10             Target Center        19356.0                    Glen Taylor   \n",
      "11           Barclays Center        19039.0                       Joe Tsai   \n",
      "12    Gainbridge Fieldhouse         18345.0                     Herb Simon   \n",
      "13        Wells Fargo Center        19039.0  Joshua Harris & David Blitzer   \n",
      "14          Footprint Center        19039.0                     Mat Ishbia   \n",
      "15               Moda Center        19980.0                     Jody Allen   \n",
      "16           Golden 1 Center        17500.0                 Vivek Ranadive   \n",
      "17               AT&T Center        18694.0                     Peter Holt   \n",
      "18             Paycom Center        19039.0                   Clay Bennett   \n",
      "19          Scotiabank Arena        19039.0             Lawrence Tanenbaum   \n",
      "20              Delta Center        19039.0                     Ryan Smith   \n",
      "21                FedExForum        18119.0                    Robert Pera   \n",
      "22         Capital One Arena        20647.0                    Ted Leonsis   \n",
      "23      Little Caesars Arena        19039.0                      Tom Gores   \n",
      "24           Spectrum Center        19026.0                 Michael Jordan   \n",
      "\n",
      "        generalmanager         headcoach                 dleagueaffiliation  \n",
      "0       Travis Schlenk       Quin Snyder              College Park Skyhawks  \n",
      "1   Arturas Karnisovas     Billy Donovan                   Windy City Bulls  \n",
      "2        Nico Harrison        Jason Kidd                      Texas Legends  \n",
      "3         Calvin Booth    Michael Malone                  Grand Rapids Gold  \n",
      "4            Bob Myers        Steve Kerr                Santa Cruz Warriors  \n",
      "5         Rafael Stone         Ime Udoka           Rio Grande Valley Vipers  \n",
      "6       Michael Winger        Tyronn Lue  Agua Caliente Clippers of Ontario  \n",
      "7          Rob Pelinka        Darvin Ham                   South Bay Lakers  \n",
      "8            Pat Riley    Erik Spoelstra               Sioux Falls Skyforce  \n",
      "9            Jon Horst    Adrian Griffin                     Wisconsin Herd  \n",
      "10        Tim Connelly       Chris Finch                        Iowa Wolves  \n",
      "11          Sean Marks     Jacque Vaughn                   Long Island Nets  \n",
      "12     Kevin Pritchard     Rick Carlisle                Fort Wayne Mad Ants  \n",
      "13         Elton Brand        Nick Nurse                Delaware Blue Coats  \n",
      "14         James Jones       Frank Vogel                       No Affiliate  \n",
      "15          Joe Cronin  Chauncey Billups                       No Affiliate  \n",
      "16        Monte McNair        Mike Brown                     Stockton Kings  \n",
      "17        Brian Wright    Gregg Popovich                       Austin Spurs  \n",
      "18          Sam Presti   Mark Daigneault                 Oklahoma City Blue  \n",
      "19         Masai Ujiri    sin entrenador                        Raptors 905  \n",
      "20        Justin Zanik        Will Hardy               Salt Lake City Stars  \n",
      "21        Zach Kleiman    Taylor Jenkins                     Memphis Hustle  \n",
      "22      Tommy Sheppard        Wes Unseld                 Capital City Go-Go  \n",
      "23        Ed Stefanski    Monty Williams                  Motor City Cruise  \n",
      "24       Mitch Kupchak    Steve Clifford                   Greensboro Swarm  \n"
     ]
    }
   ],
   "source": [
    "print(data)"
   ]
  },
  {
   "cell_type": "markdown",
   "metadata": {},
   "source": [
    "##### Almaceno mi nuevo dataframe  en una nueva variable llamada archivo_data_details_Final"
   ]
  },
  {
   "cell_type": "code",
   "execution_count": 32,
   "metadata": {},
   "outputs": [],
   "source": [
    "data.to_csv('archivo_data_details_Final.csv', index=False)"
   ]
  },
  {
   "cell_type": "markdown",
   "metadata": {},
   "source": [
    "##### Almaceno mi dataset ya filtrado en una nueva variable llamada archivo_data_details"
   ]
  },
  {
   "cell_type": "code",
   "execution_count": 33,
   "metadata": {},
   "outputs": [],
   "source": [
    "archivo_data_details=pd.read_csv('archivo_data_details_Final.csv')"
   ]
  }
 ],
 "metadata": {
  "kernelspec": {
   "display_name": "Python 3",
   "language": "python",
   "name": "python3"
  },
  "language_info": {
   "codemirror_mode": {
    "name": "ipython",
    "version": 3
   },
   "file_extension": ".py",
   "mimetype": "text/x-python",
   "name": "python",
   "nbconvert_exporter": "python",
   "pygments_lexer": "ipython3",
   "version": "3.12.4"
  }
 },
 "nbformat": 4,
 "nbformat_minor": 2
}
